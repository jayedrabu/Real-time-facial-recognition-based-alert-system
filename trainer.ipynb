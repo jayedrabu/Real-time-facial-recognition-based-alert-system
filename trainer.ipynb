{
 "cells": [
  {
   "cell_type": "code",
   "execution_count": 1,
   "metadata": {},
   "outputs": [
    {
     "name": "stdout",
     "output_type": "stream",
     "text": [
      "{0: 'jayed'}\n"
     ]
    }
   ],
   "source": [
    "import cv2\n",
    "import os\n",
    "import numpy as np\n",
    "from PIL import Image\n",
    "import pickle\n",
    "\n",
    "image_dir =r'C:\\Users\\jayed\\Downloads\\dataset'\n",
    "\n",
    "face_cascade = cv2.CascadeClassifier('haarcascade_frontalface_alt2.xml')\n",
    "recognizer = cv2.face.LBPHFaceRecognizer_create()\n",
    "\n",
    "current_id = 0\n",
    "label_ids = {}\n",
    "y_labels = []\n",
    "x_train = []\n",
    "\n",
    "images = os.listdir(image_dir)\n",
    "# print(images)\n",
    "id = 0\n",
    "user_info = {}\n",
    "for image in images:\n",
    "\tinDict = False\n",
    "\tpath = os.path.join(image_dir, image)\n",
    "\timg = cv2.imread(path)\n",
    "\timg = cv2.cvtColor(img, cv2.COLOR_BGR2GRAY)\n",
    "\tlabel = image[:image.index(\".\")]\n",
    "\tif not user_info:\n",
    "\t\tuser_info[id] = label\n",
    "\tfor key, value in user_info.items():\n",
    "\t\tif label == value:\n",
    "\t\t\tid = key\n",
    "\t\t\tinDict = True\n",
    "\t\t\tbreak\n",
    "\t\telse:\n",
    "\t\t\tinDict = False\n",
    "\tif not inDict:\n",
    "\t\tid = id+1\n",
    "\t\tuser_info[id] = label\n",
    "\t# faces = face_cascade.detectMultiScale(image_array, scaleFactor=1.5, minNeighbors=5)\n",
    "\t# for (x,y,w,h) in faces:\n",
    "\t\t# roi = image_array[y:y+h, x:x+w]\n",
    "\tx_train.append(img)\n",
    "\ty_labels.append(id)\n",
    "\n",
    "# print(x_train)\n",
    "# print(y_labels)\n",
    "recognizer.train(x_train, np.array(y_labels))\n",
    "recognizer.save(\"face-trainner.yml\")\n",
    "\n",
    "with open('labelData.pickle', 'wb') as handle:\n",
    "\tpickle.dump(user_info, handle, protocol = pickle.HIGHEST_PROTOCOL)\n",
    "print(user_info)\n"
   ]
  },
  {
   "cell_type": "code",
   "execution_count": null,
   "metadata": {},
   "outputs": [],
   "source": []
  }
 ],
 "metadata": {
  "kernelspec": {
   "display_name": "Python 3",
   "language": "python",
   "name": "python3"
  },
  "language_info": {
   "codemirror_mode": {
    "name": "ipython",
    "version": 3
   },
   "file_extension": ".py",
   "mimetype": "text/x-python",
   "name": "python",
   "nbconvert_exporter": "python",
   "pygments_lexer": "ipython3",
   "version": "3.7.3"
  }
 },
 "nbformat": 4,
 "nbformat_minor": 4
}
