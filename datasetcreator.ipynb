{
 "cells": [
  {
   "cell_type": "code",
   "execution_count": 1,
   "metadata": {},
   "outputs": [
    {
     "name": "stdout",
     "output_type": "stream",
     "text": [
      "Enter Name: jayed\n",
      "Enter Email: jayedrabu@gmail.com\n"
     ]
    }
   ],
   "source": [
    "import os\n",
    "import cv2\n",
    "import numpy as np\n",
    "\n",
    "class User:\n",
    "\tdef __init__(self, name, email):\n",
    "\t\tif not os.path.exists(\"dataset\"):\n",
    "\t\t\tos.mkdir(\"dataset\")\n",
    "\t\tself.name = name\n",
    "\t\tself.email = email\n",
    "\n",
    "\t#create dataset of user faces and save it in dataset folder\n",
    "\tdef save(self):\n",
    "\t\tface_cascade = cv2.CascadeClassifier(r'C:\\Users\\jayed\\Downloads\\haarcascade_frontalface_default.xml')\n",
    "\t\tcap = cv2.VideoCapture(0)\n",
    "\t\tsampleNumber = 0\n",
    "\t\twhile True:\n",
    "\t\t\tret, img = cap.read()\n",
    "\t\t\tgray = cv2.cvtColor(img, cv2.COLOR_BGR2GRAY)\n",
    "\t\t\tfaces = face_cascade.detectMultiScale(gray,1.3,5)\n",
    "\t\t\tfor(x,y,w,h) in faces:\n",
    "\t\t\t\tsampleNumber += 1\n",
    "\t\t\t\tcv2.imwrite(\"dataset/\"+name+\".\"+str(sampleNumber)+\".jpg\",gray[y:y+h,x:x+w])\n",
    "\t\t\t\tcv2.rectangle(img,(x,y),(x+w,y+h),(255,0,0),2)\n",
    "\t\t\t\tcv2.waitKey(100)\n",
    "\t\t\tcv2.imshow('img',img)\n",
    "\t\t\tcv2.waitKey(1)\n",
    "\t\t\tif(sampleNumber>40):\n",
    "\t\t\t\tbreak\n",
    "\t\tcap.release()\n",
    "\t\tcv2.destroyAllWindows()\n",
    "\n",
    "name = input('Enter Name: ')\n",
    "email = input('Enter Email: ')\n",
    "u1 = User(name, email)\n",
    "u1.save()\n"
   ]
  },
  {
   "cell_type": "code",
   "execution_count": null,
   "metadata": {},
   "outputs": [],
   "source": []
  }
 ],
 "metadata": {
  "kernelspec": {
   "display_name": "Python 3",
   "language": "python",
   "name": "python3"
  },
  "language_info": {
   "codemirror_mode": {
    "name": "ipython",
    "version": 3
   },
   "file_extension": ".py",
   "mimetype": "text/x-python",
   "name": "python",
   "nbconvert_exporter": "python",
   "pygments_lexer": "ipython3",
   "version": "3.7.3"
  }
 },
 "nbformat": 4,
 "nbformat_minor": 4
}
